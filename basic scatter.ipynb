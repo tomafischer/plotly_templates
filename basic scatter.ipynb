{
 "cells": [
  {
   "cell_type": "code",
   "execution_count": 18,
   "metadata": {},
   "outputs": [],
   "source": [
    "import numpy as np\n",
    "import plotly\n",
    "import plotly.offline as pyo\n",
    "import plotly.graph_objs as go"
   ]
  },
  {
   "cell_type": "markdown",
   "metadata": {},
   "source": [
    "ADD THIS LINE for inline plotting"
   ]
  },
  {
   "cell_type": "code",
   "execution_count": 19,
   "metadata": {},
   "outputs": [
    {
     "data": {
      "text/html": [
       "<script>requirejs.config({paths: { 'plotly': ['https://cdn.plot.ly/plotly-latest.min']},});if(!window.Plotly) {{require(['plotly'],function(plotly) {window.Plotly=plotly;});}}</script>"
      ],
      "text/vnd.plotly.v1+html": [
       "<script>requirejs.config({paths: { 'plotly': ['https://cdn.plot.ly/plotly-latest.min']},});if(!window.Plotly) {{require(['plotly'],function(plotly) {window.Plotly=plotly;});}}</script>"
      ]
     },
     "metadata": {},
     "output_type": "display_data"
    }
   ],
   "source": [
    "plotly.offline.init_notebook_mode(connected=True)"
   ]
  },
  {
   "cell_type": "code",
   "execution_count": 29,
   "metadata": {},
   "outputs": [
    {
     "data": {
      "application/vnd.plotly.v1+json": {
       "data": [
        {
         "line": {
          "width": 2
         },
         "marker": {
          "color": "rgb(144,43,144)",
          "size": 12,
          "symbol": "pentagon"
         },
         "mode": "markers",
         "type": "scatter",
         "uid": "54b479de-95c4-11e8-a365-5f0b590a2880",
         "x": [
          52,
          93,
          15,
          72,
          61,
          21,
          83,
          87,
          75,
          75,
          88,
          100,
          24,
          3,
          22,
          53,
          2,
          88,
          30,
          38,
          2,
          64,
          60,
          21,
          33,
          76,
          58,
          22,
          89,
          49,
          91,
          59,
          42,
          92,
          60,
          80,
          15,
          62,
          62,
          47,
          62,
          51,
          55,
          64,
          3,
          51,
          7,
          21,
          73,
          39,
          18,
          4,
          89,
          60,
          14,
          9,
          90,
          53,
          2,
          84,
          92,
          60,
          71,
          44,
          8,
          47,
          35,
          78,
          81,
          36,
          50,
          4,
          2,
          6,
          54,
          4,
          54,
          93,
          63,
          18,
          90,
          44,
          34,
          74,
          62,
          100,
          14,
          95,
          48,
          15,
          72,
          78,
          87,
          62,
          40,
          85,
          80,
          82,
          53,
          24
         ],
         "y": [
          26,
          89,
          60,
          41,
          29,
          15,
          45,
          65,
          89,
          71,
          9,
          88,
          1,
          8,
          88,
          63,
          11,
          81,
          8,
          35,
          35,
          33,
          5,
          41,
          28,
          7,
          73,
          72,
          12,
          34,
          33,
          48,
          23,
          62,
          88,
          37,
          99,
          44,
          86,
          91,
          35,
          65,
          99,
          47,
          78,
          3,
          1,
          5,
          90,
          14,
          27,
          9,
          79,
          15,
          90,
          42,
          77,
          51,
          63,
          96,
          52,
          96,
          4,
          94,
          23,
          15,
          43,
          29,
          36,
          13,
          32,
          71,
          59,
          86,
          28,
          66,
          42,
          45,
          62,
          57,
          6,
          28,
          28,
          44,
          84,
          30,
          62,
          75,
          92,
          89,
          62,
          97,
          1,
          27,
          62,
          77,
          3,
          70,
          72,
          27
         ]
        }
       ],
       "layout": {
        "hovermode": "closest",
        "title": "Random aweseomnes",
        "xaxis": {
         "title": "My X Axis"
        },
        "yaxis": {
         "title": "My Y Axis"
        }
       }
      },
      "text/html": [
       "<div id=\"39be068c-1596-4461-bbf3-b87edadc2a74\" style=\"height: 525px; width: 100%;\" class=\"plotly-graph-div\"></div><script type=\"text/javascript\">require([\"plotly\"], function(Plotly) { window.PLOTLYENV=window.PLOTLYENV || {};window.PLOTLYENV.BASE_URL=\"https://plot.ly\";\n",
       "        Plotly.plot(\n",
       "            '39be068c-1596-4461-bbf3-b87edadc2a74',\n",
       "            [{\"line\": {\"width\": 2}, \"marker\": {\"color\": \"rgb(144,43,144)\", \"size\": 12, \"symbol\": \"pentagon\"}, \"mode\": \"markers\", \"x\": [52.0, 93.0, 15.0, 72.0, 61.0, 21.0, 83.0, 87.0, 75.0, 75.0, 88.0, 100.0, 24.0, 3.0, 22.0, 53.0, 2.0, 88.0, 30.0, 38.0, 2.0, 64.0, 60.0, 21.0, 33.0, 76.0, 58.0, 22.0, 89.0, 49.0, 91.0, 59.0, 42.0, 92.0, 60.0, 80.0, 15.0, 62.0, 62.0, 47.0, 62.0, 51.0, 55.0, 64.0, 3.0, 51.0, 7.0, 21.0, 73.0, 39.0, 18.0, 4.0, 89.0, 60.0, 14.0, 9.0, 90.0, 53.0, 2.0, 84.0, 92.0, 60.0, 71.0, 44.0, 8.0, 47.0, 35.0, 78.0, 81.0, 36.0, 50.0, 4.0, 2.0, 6.0, 54.0, 4.0, 54.0, 93.0, 63.0, 18.0, 90.0, 44.0, 34.0, 74.0, 62.0, 100.0, 14.0, 95.0, 48.0, 15.0, 72.0, 78.0, 87.0, 62.0, 40.0, 85.0, 80.0, 82.0, 53.0, 24.0], \"y\": [26.0, 89.0, 60.0, 41.0, 29.0, 15.0, 45.0, 65.0, 89.0, 71.0, 9.0, 88.0, 1.0, 8.0, 88.0, 63.0, 11.0, 81.0, 8.0, 35.0, 35.0, 33.0, 5.0, 41.0, 28.0, 7.0, 73.0, 72.0, 12.0, 34.0, 33.0, 48.0, 23.0, 62.0, 88.0, 37.0, 99.0, 44.0, 86.0, 91.0, 35.0, 65.0, 99.0, 47.0, 78.0, 3.0, 1.0, 5.0, 90.0, 14.0, 27.0, 9.0, 79.0, 15.0, 90.0, 42.0, 77.0, 51.0, 63.0, 96.0, 52.0, 96.0, 4.0, 94.0, 23.0, 15.0, 43.0, 29.0, 36.0, 13.0, 32.0, 71.0, 59.0, 86.0, 28.0, 66.0, 42.0, 45.0, 62.0, 57.0, 6.0, 28.0, 28.0, 44.0, 84.0, 30.0, 62.0, 75.0, 92.0, 89.0, 62.0, 97.0, 1.0, 27.0, 62.0, 77.0, 3.0, 70.0, 72.0, 27.0], \"type\": \"scatter\", \"uid\": \"54b479de-95c4-11e8-a365-5f0b590a2880\"}],\n",
       "            {\"hovermode\": \"closest\", \"title\": \"Random aweseomnes\", \"xaxis\": {\"title\": \"My X Axis\"}, \"yaxis\": {\"title\": \"My Y Axis\"}},\n",
       "            {\"showLink\": true, \"linkText\": \"Export to plot.ly\"}\n",
       "        ).then(function () {return Plotly.addFrames('39be068c-1596-4461-bbf3-b87edadc2a74',{});}).then(function(){Plotly.animate('39be068c-1596-4461-bbf3-b87edadc2a74');})\n",
       "        });</script>"
      ],
      "text/vnd.plotly.v1+html": [
       "<div id=\"39be068c-1596-4461-bbf3-b87edadc2a74\" style=\"height: 525px; width: 100%;\" class=\"plotly-graph-div\"></div><script type=\"text/javascript\">require([\"plotly\"], function(Plotly) { window.PLOTLYENV=window.PLOTLYENV || {};window.PLOTLYENV.BASE_URL=\"https://plot.ly\";\n",
       "        Plotly.plot(\n",
       "            '39be068c-1596-4461-bbf3-b87edadc2a74',\n",
       "            [{\"line\": {\"width\": 2}, \"marker\": {\"color\": \"rgb(144,43,144)\", \"size\": 12, \"symbol\": \"pentagon\"}, \"mode\": \"markers\", \"x\": [52.0, 93.0, 15.0, 72.0, 61.0, 21.0, 83.0, 87.0, 75.0, 75.0, 88.0, 100.0, 24.0, 3.0, 22.0, 53.0, 2.0, 88.0, 30.0, 38.0, 2.0, 64.0, 60.0, 21.0, 33.0, 76.0, 58.0, 22.0, 89.0, 49.0, 91.0, 59.0, 42.0, 92.0, 60.0, 80.0, 15.0, 62.0, 62.0, 47.0, 62.0, 51.0, 55.0, 64.0, 3.0, 51.0, 7.0, 21.0, 73.0, 39.0, 18.0, 4.0, 89.0, 60.0, 14.0, 9.0, 90.0, 53.0, 2.0, 84.0, 92.0, 60.0, 71.0, 44.0, 8.0, 47.0, 35.0, 78.0, 81.0, 36.0, 50.0, 4.0, 2.0, 6.0, 54.0, 4.0, 54.0, 93.0, 63.0, 18.0, 90.0, 44.0, 34.0, 74.0, 62.0, 100.0, 14.0, 95.0, 48.0, 15.0, 72.0, 78.0, 87.0, 62.0, 40.0, 85.0, 80.0, 82.0, 53.0, 24.0], \"y\": [26.0, 89.0, 60.0, 41.0, 29.0, 15.0, 45.0, 65.0, 89.0, 71.0, 9.0, 88.0, 1.0, 8.0, 88.0, 63.0, 11.0, 81.0, 8.0, 35.0, 35.0, 33.0, 5.0, 41.0, 28.0, 7.0, 73.0, 72.0, 12.0, 34.0, 33.0, 48.0, 23.0, 62.0, 88.0, 37.0, 99.0, 44.0, 86.0, 91.0, 35.0, 65.0, 99.0, 47.0, 78.0, 3.0, 1.0, 5.0, 90.0, 14.0, 27.0, 9.0, 79.0, 15.0, 90.0, 42.0, 77.0, 51.0, 63.0, 96.0, 52.0, 96.0, 4.0, 94.0, 23.0, 15.0, 43.0, 29.0, 36.0, 13.0, 32.0, 71.0, 59.0, 86.0, 28.0, 66.0, 42.0, 45.0, 62.0, 57.0, 6.0, 28.0, 28.0, 44.0, 84.0, 30.0, 62.0, 75.0, 92.0, 89.0, 62.0, 97.0, 1.0, 27.0, 62.0, 77.0, 3.0, 70.0, 72.0, 27.0], \"type\": \"scatter\", \"uid\": \"54b479de-95c4-11e8-a365-5f0b590a2880\"}],\n",
       "            {\"hovermode\": \"closest\", \"title\": \"Random aweseomnes\", \"xaxis\": {\"title\": \"My X Axis\"}, \"yaxis\": {\"title\": \"My Y Axis\"}},\n",
       "            {\"showLink\": true, \"linkText\": \"Export to plot.ly\"}\n",
       "        ).then(function () {return Plotly.addFrames('39be068c-1596-4461-bbf3-b87edadc2a74',{});}).then(function(){Plotly.animate('39be068c-1596-4461-bbf3-b87edadc2a74');})\n",
       "        });</script>"
      ]
     },
     "metadata": {},
     "output_type": "display_data"
    }
   ],
   "source": [
    "np.random.seed(42)\n",
    "random_x = np.random.randint(1,101,100)\n",
    "random_y = np.random.randint(1,101,100)\n",
    "\n",
    "data = [go.Scatter(x = random_x, \n",
    "                   y = random_y, \n",
    "                   mode ='markers',\n",
    "                   marker=dict(size = 12, \n",
    "                               color ='rgb(144,43,144)', \n",
    "                               symbol='pentagon'),\n",
    "                               line = {'width' : 2}\n",
    "                  )]\n",
    "layout = go.Layout(title='Random aweseomnes', \n",
    "                    xaxis={'title':'My X Axis'},\n",
    "                    yaxis = dict(title='My Y Axis'),\n",
    "                    hovermode = 'closest')\n",
    "fig = go.Figure(data = data, layout = layout)\n",
    "\n",
    "pyo.iplot(fig)\n",
    "#pyo.plot(data, filename ='scatter.html')"
   ]
  },
  {
   "cell_type": "code",
   "execution_count": null,
   "metadata": {},
   "outputs": [],
   "source": []
  }
 ],
 "metadata": {
  "kernelspec": {
   "display_name": "Python 3",
   "language": "python",
   "name": "python3"
  },
  "language_info": {
   "codemirror_mode": {
    "name": "ipython",
    "version": 3
   },
   "file_extension": ".py",
   "mimetype": "text/x-python",
   "name": "python",
   "nbconvert_exporter": "python",
   "pygments_lexer": "ipython3",
   "version": "3.6.6"
  }
 },
 "nbformat": 4,
 "nbformat_minor": 2
}
